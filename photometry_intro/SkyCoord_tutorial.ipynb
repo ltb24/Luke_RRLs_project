{
 "cells": [
  {
   "cell_type": "markdown",
   "metadata": {},
   "source": [
    "## Tutorial: comparing data using sky coordinates\n",
    "\n",
    "This notebooks follows a tutorial on comparing data from overlapping observations in order to check how accurate the photometry is.\n",
    "\n",
    "Credits: https://whitaker.physics.uconn.edu/wp-content/uploads/sites/2038/2017/02/PythonTutorial_Ashas.pdf\n",
    "\n",
    "This will consider the use of SkyCoords to compare sky objects positions in different catalogs, in this case using ICRS. "
   ]
  },
  {
   "cell_type": "code",
   "execution_count": 1,
   "metadata": {},
   "outputs": [],
   "source": [
    "from astropy.table import Table, Column, join\n",
    "from astropy.io import ascii\n",
    "import numpy as np\n",
    "import matplotlib.pyplot as np\n",
    "%matplotlib inline\n",
    "from numpy import *"
   ]
  },
  {
   "cell_type": "code",
   "execution_count": null,
   "metadata": {},
   "outputs": [],
   "source": []
  }
 ],
 "metadata": {
  "kernelspec": {
   "display_name": "Python 3",
   "language": "python",
   "name": "python3"
  },
  "language_info": {
   "codemirror_mode": {
    "name": "ipython",
    "version": 3
   },
   "file_extension": ".py",
   "mimetype": "text/x-python",
   "name": "python",
   "nbconvert_exporter": "python",
   "pygments_lexer": "ipython3",
   "version": "3.7.3"
  }
 },
 "nbformat": 4,
 "nbformat_minor": 2
}
