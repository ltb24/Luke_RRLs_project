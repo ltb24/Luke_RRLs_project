{
 "cells": [
  {
   "cell_type": "markdown",
   "metadata": {},
   "source": [
    "## Calculating the distance to the Palomar 5 globular cluster\n",
    "\n",
    "Author: Luke Bischoff<br>\n",
    "Created: 11 DECEMBER 2020 11:22<br>\n",
    "Updated: 11 DECEMBER 2020 11:25\n",
    "\n",
    "##### Introduction\n",
    "TTT\n",
    "##### Contents\n",
    "fff\n",
    "##### Import list"
   ]
  },
  {
   "cell_type": "code",
   "execution_count": 1,
   "metadata": {},
   "outputs": [],
   "source": [
    "import math\n",
    "import glob\n",
    "import copy\n",
    "import numpy as np\n",
    "import pandas as pd\n",
    "import astroalign as aa\n",
    "import matplotlib\n",
    "import matplotlib.pyplot as plt\n",
    "from gloess_plot import GLOESSpy\n",
    "from scipy.optimize import curve_fit\n",
    "from astropy import wcs\n",
    "from astropy import units as u\n",
    "from astropy.io import fits # used for FITS file management\n",
    "from astropy.io import ascii\n",
    "from astropy.time import Time\n",
    "from astropy.stats import sigma_clipped_stats # used within star detection\n",
    "from astropy.table import Table, join\n",
    "from astropy.nddata import NDData\n",
    "from astropy.coordinates import SkyCoord\n",
    "from astropy.coordinates import match_coordinates_sky\n",
    "from astropy.coordinates import Angle\n",
    "from astropy.visualization import simple_norm\n",
    "from astropy.io.votable import parse_single_table\n",
    "from astropy.modeling.fitting import LevMarLSQFitter\n",
    "from photutils import aperture_photometry # used to perform photometry using annuli\n",
    "from photutils import DAOStarFinder # used for the star finding algorithm\n",
    "from photutils import CircularAperture, CircularAnnulus\n",
    "from photutils import EPSFBuilder\n",
    "from photutils.psf import extract_stars\n",
    "from photutils.psf import DAOGroup\n",
    "from photutils.psf import IterativelySubtractedPSFPhotometry\n",
    "from photutils.background import MMMBackground\n",
    "from astroquery.irsa_dust import IrsaDust\n",
    "from matplotlib.colors import LogNorm"
   ]
  },
  {
   "cell_type": "markdown",
   "metadata": {},
   "source": [
    "##### User defined functions*"
   ]
  },
  {
   "cell_type": "code",
   "execution_count": null,
   "metadata": {},
   "outputs": [],
   "source": []
  }
 ],
 "metadata": {
  "kernelspec": {
   "display_name": "Python 3",
   "language": "python",
   "name": "python3"
  },
  "language_info": {
   "codemirror_mode": {
    "name": "ipython",
    "version": 3
   },
   "file_extension": ".py",
   "mimetype": "text/x-python",
   "name": "python",
   "nbconvert_exporter": "python",
   "pygments_lexer": "ipython3",
   "version": "3.7.3"
  }
 },
 "nbformat": 4,
 "nbformat_minor": 2
}
